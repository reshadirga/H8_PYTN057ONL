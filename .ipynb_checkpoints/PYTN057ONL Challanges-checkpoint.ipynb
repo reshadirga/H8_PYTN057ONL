{
 "cells": [
  {
   "cell_type": "markdown",
   "id": "7e40abb9",
   "metadata": {},
   "source": [
    "<h2> Sesi 1 - Challenge: coba create gabungan antara list, string, dan integer yang nanti dicompare dengan menggunakan variable </h2>"
   ]
  },
  {
   "cell_type": "code",
   "execution_count": null,
   "id": "3b4a8e47",
   "metadata": {
    "scrolled": false
   },
   "outputs": [],
   "source": [
    "list_1 = ['a', 2, 'c', 3, 'de']\n",
    "str_1 = 'I am me'\n",
    "int_1 = 99"
   ]
  },
  {
   "cell_type": "code",
   "execution_count": null,
   "id": "7e9f3d61",
   "metadata": {},
   "outputs": [],
   "source": [
    "merge_1 = [list_1, str_1, int_1]\n",
    "print(merge_1)"
   ]
  },
  {
   "cell_type": "code",
   "execution_count": null,
   "id": "8e552ad1",
   "metadata": {},
   "outputs": [],
   "source": [
    "int_2 = 100\n",
    "print(merge_1[2] == int_2)\n",
    "\n",
    "str_list_1 = 'a2c3de'\n",
    "print(merge_1[0] == str_list_1)"
   ]
  },
  {
   "cell_type": "markdown",
   "id": "db986dfb",
   "metadata": {},
   "source": [
    "<h2> Sesi 2 - Challenge</h2>"
   ]
  },
  {
   "cell_type": "code",
   "execution_count": null,
   "id": "99cf84b8",
   "metadata": {},
   "outputs": [],
   "source": [
    "nama_panjang = input('nama panjang: ')\n",
    "nama_pendek = input('nama pendek: ')\n",
    "umur = input('umur: ')\n",
    "\n",
    "list_string_nama_panjang = nama_panjang.split()\n",
    "jumlah_kata = len(list_string_nama_panjang)\n",
    "\n",
    "if jumlah_kata==3:\n",
    "    print(nama_panjang)\n",
    "elif jumlah_kata!=3:\n",
    "    if int(umur) % 2 == 0:\n",
    "        print(nama_panjang)\n",
    "    else:\n",
    "        print(nama_pendek)"
   ]
  },
  {
   "cell_type": "code",
   "execution_count": null,
   "id": "2070f238",
   "metadata": {},
   "outputs": [],
   "source": [
    "i = 0\n",
    "\n",
    "clean_nama_panjang = nama_panjang.replace(' ','')\n",
    "\n",
    "for n in clean_nama_panjang:\n",
    "    i += 1\n",
    "    print(i)"
   ]
  },
  {
   "cell_type": "code",
   "execution_count": null,
   "id": "1cc87ad8",
   "metadata": {},
   "outputs": [],
   "source": [
    "nama = nama_pendek\n",
    "list_1 = [1,2,3,4]\n",
    "list_2 = [1,2,3,5]\n",
    "\n",
    "if list_1 == list_2:\n",
    "    print(list_1)\n",
    "else:\n",
    "    for i in list_1:\n",
    "        print(nama)"
   ]
  },
  {
   "cell_type": "markdown",
   "id": "3a04dc24",
   "metadata": {},
   "source": [
    "<h2> Sesi 3 - Challenge </h2>"
   ]
  },
  {
   "cell_type": "markdown",
   "id": "65970b97",
   "metadata": {},
   "source": [
    "<p> kita membutuhkan fungsi untuk menghitung perkalian dari item2 di list A, kemudian hasil dari perkalian tersebut dikalikan ke setiap item di list B\n",
    "contoh:\n",
    "list_a = [1,2,3,4]\n",
    "list_b = [4,5,6,7]\n",
    "maka hasil dari fungsi: [96,120,144,168] </p>"
   ]
  },
  {
   "cell_type": "code",
   "execution_count": null,
   "id": "a7ad2d74",
   "metadata": {},
   "outputs": [],
   "source": [
    "list_a = [1,2,3,4]\n",
    "list_b = [4,5,6,7]\n",
    "\n",
    "def func_case1(listA, listB):\n",
    "    result = 1\n",
    "    \n",
    "    for x in listA:\n",
    "        result = result * x;\n",
    "    \n",
    "    for x in range(0,len(listB),1):\n",
    "        listB[x] = result * listB[x]\n",
    "        \n",
    "    return listB;\n",
    "\n",
    "print(func_case1(list_a,list_b))"
   ]
  },
  {
   "cell_type": "markdown",
   "id": "9371b525",
   "metadata": {},
   "source": [
    "kita membuat 2 fungsi, dimana fungsi pertama adalah untuk mengecek input itu adalah suatu angka bukan huruf dan apakah angka itu dapat dibagi oleh suatu angka, hasil dari fungsi tersebut adalah true atau false\n",
    "fungsi yg kedua adalah apabila hasil dari fungsi pertama itu adalah true, maka kita akan mempangkatkan angka tersebut dengan pangkat yang kita inginkan, dan apabila false maka keluar kata2: \"input bukan angka\" atau \"input tidak bisa dibagi 2\"\n",
    "contoh:\n",
    "input: 10\n",
    "pangkat: 3\n",
    "maka hasil"
   ]
  },
  {
   "cell_type": "code",
   "execution_count": null,
   "id": "fe4a7cfb",
   "metadata": {},
   "outputs": [],
   "source": [
    "base = input('input: ')\n",
    "power = int(input('pangkat: '))\n",
    "\n",
    "def func_case2_isDivisibleByTwo(num):\n",
    "    \n",
    "    if base.isnumeric():\n",
    "        if int(num)%2 == 0:\n",
    "            return True\n",
    "        else:\n",
    "            print('input tidak bisa dibagi 2');\n",
    "            return False\n",
    "    else:\n",
    "        print('input bukan angka');\n",
    "        return False\n",
    "    \n",
    "def func_case2_calculatePower(baseNum, powerNum):\n",
    "    \n",
    "    check = func_case2_isDivisibleByTwo(baseNum)\n",
    "    \n",
    "    if check:\n",
    "        return int(baseNum)**powerNum\n",
    "    else:\n",
    "        return ''\n",
    "\n",
    "print(func_case2_calculatePower(base, power))"
   ]
  },
  {
   "cell_type": "markdown",
   "id": "267e69b9",
   "metadata": {},
   "source": [
    "<h2> Sesi 4 - Challenge </h2>"
   ]
  },
  {
   "cell_type": "code",
   "execution_count": null,
   "id": "11db2797",
   "metadata": {},
   "outputs": [],
   "source": [
    "import numpy as np"
   ]
  },
  {
   "cell_type": "markdown",
   "id": "9468fb13",
   "metadata": {},
   "source": [
    "Case:<br></br>Create Create numpy array from your inputted full name in the form of numbers based on order in alphabets. You can use this translater to change from alphabet to number:\n",
    "```py\n",
    "letter_to_word = {'a': 1, 'c': 3, 'b': 2, 'e': 5, 'd': 4, 'g': 7, 'f': 6, 'i': 9, 'h': 8, 'k': 11, 'j': 10, 'm': 13, 'l': 12, 'o': 15, 'n': 14, 'q': 17, 'p': 16, 's': 19, 'r': 18, 'u': 21, 't': 20, 'w': 23, 'v': 22, 'y': 25, 'x': 24, 'z': 26}\n",
    "```\n",
    "Also add repetition on the number based on your inputted number.\n",
    "Example:\n",
    "inputted full name = 'Jenny'<br>\n",
    "repeated = 4 times<br>\n",
    "result:<br>\n",
    "```\n",
    "[[10  5 14 14 25]\n",
    " [10  5 14 14 25]\n",
    " [10  5 14 14 25]\n",
    " [10  5 14 14 25]]\n",
    "```"
   ]
  },
  {
   "cell_type": "code",
   "execution_count": null,
   "id": "c23a5e4e",
   "metadata": {},
   "outputs": [],
   "source": [
    "letter_to_word = {'a': 1, 'c': 3, 'b': 2, 'e': 5, 'd': 4, 'g': 7, 'f': 6, 'i': 9, 'h': 8, 'k': 11, 'j': 10, 'm': 13, 'l': 12, 'o': 15, 'n': 14, 'q': 17, 'p': 16, 's': 19, 'r': 18, 'u': 21, 't': 20, 'w': 23, 'v': 22, 'y': 25, 'x': 24, 'z': 26}\n",
    "\n",
    "name = str(input('name:'))\n",
    "repeated = int(input('repeated:'))\n",
    "\n",
    "# Step 1 - create name array\n",
    "\n",
    "arr_name = np.empty(0, dtype=int)\n",
    "\n",
    "for i in name:\n",
    "    arr_name = np.append(arr_name, np.array([letter_to_word[i]]))\n",
    "\n",
    "# Step 2 - repeat array\n",
    "\n",
    "arr_result = np.full((repeated,len(arr_name)), arr_name, dtype=int)\n",
    "\n",
    "print(arr_result)"
   ]
  },
  {
   "cell_type": "markdown",
   "id": "06eccdf2",
   "metadata": {},
   "source": [
    "Case:<br></br>Create data housing price using random number in numpy array with below column:\n",
    "* house price in integer\n",
    "* square feet in integer\n",
    "* is_new in 0 or 1\n",
    "* city in categorical integer\n",
    "\n",
    "After that create 2 arrays that are for testing and training purposes.\n",
    "\n",
    "The input will be:\n",
    "* number of data\n",
    "* range of data in each column"
   ]
  },
  {
   "cell_type": "code",
   "execution_count": null,
   "id": "a860b3e5",
   "metadata": {},
   "outputs": [],
   "source": [
    "number_of_house = int(input('number of data: '))\n",
    "\n",
    "print('')\n",
    "print('range data: ')\n",
    "\n",
    "min_house_price = int(input('minimum house price: '))\n",
    "max_house_price = int(input('maximum house price: '))\n",
    "\n",
    "min_house_area = int(input('minimum house area: '))\n",
    "max_house_area = int(input('maximum house area: '))\n",
    "\n",
    "number_of_cities = int(input('number of cities: '))\n",
    "\n",
    "print('')\n",
    "houses = np.random.randint([min_house_price, min_house_area, 0, 1], [max_house_price+1,max_house_area+1,2,number_of_cities+1],size=(number_of_house,4))\n",
    "\n",
    "print(houses)\n"
   ]
  },
  {
   "cell_type": "markdown",
   "id": "60791def",
   "metadata": {},
   "source": [
    "<h2> Sesi 5 - Challenge </h2>"
   ]
  },
  {
   "cell_type": "code",
   "execution_count": null,
   "id": "11f22361",
   "metadata": {},
   "outputs": [],
   "source": [
    "import numpy as np\n",
    "import pandas as pd"
   ]
  },
  {
   "cell_type": "code",
   "execution_count": null,
   "id": "765443d0",
   "metadata": {},
   "outputs": [],
   "source": [
    "a = pd.read_csv('https://raw.githubusercontent.com/guipsamora/pandas_exercises/master/04_Apply/Students_Alcohol_Consumption/student-mat.csv')"
   ]
  },
  {
   "cell_type": "code",
   "execution_count": null,
   "id": "cc8ab0bf",
   "metadata": {},
   "outputs": [],
   "source": [
    "a.info()"
   ]
  },
  {
   "cell_type": "code",
   "execution_count": null,
   "id": "311bb7ec",
   "metadata": {},
   "outputs": [],
   "source": [
    "a['Total_Time'] = a['traveltime'] + a['studytime']\n",
    "a[['Total_Time', 'traveltime', 'studytime']].describe()"
   ]
  },
  {
   "cell_type": "code",
   "execution_count": null,
   "id": "c8bb216c",
   "metadata": {},
   "outputs": [],
   "source": [
    "a.describe()"
   ]
  },
  {
   "cell_type": "code",
   "execution_count": null,
   "id": "bac0298a",
   "metadata": {},
   "outputs": [],
   "source": [
    "a['Total_Grade'] = a['G1'] + a['G2'] + a['G3']\n",
    "a.describe()"
   ]
  },
  {
   "cell_type": "code",
   "execution_count": null,
   "id": "6f168dff",
   "metadata": {},
   "outputs": [],
   "source": [
    "a.groupby('age')['Total_Grade'].median()"
   ]
  },
  {
   "cell_type": "code",
   "execution_count": null,
   "id": "c96b9fae",
   "metadata": {},
   "outputs": [],
   "source": [
    "a.groupby('age')['Total_Grade'].median().plot()"
   ]
  },
  {
   "cell_type": "markdown",
   "id": "0457398f",
   "metadata": {},
   "source": [
    "1. Harga rumah mahal seperti apa ciri-cirinya?\n",
    "2. Impact income ke pembelian rumah"
   ]
  },
  {
   "cell_type": "code",
   "execution_count": null,
   "id": "20f01cee",
   "metadata": {},
   "outputs": [],
   "source": [
    "df_housing = pd.read_csv('USA_Housing.csv')\n",
    "df_housing.describe()"
   ]
  },
  {
   "cell_type": "code",
   "execution_count": null,
   "id": "4019c82a",
   "metadata": {},
   "outputs": [],
   "source": [
    "df_housing.info()"
   ]
  },
  {
   "cell_type": "code",
   "execution_count": null,
   "id": "991112cd",
   "metadata": {},
   "outputs": [],
   "source": [
    "df_housing['Total_room_area'] = df_housing['Avg. Area Number of Rooms'] + df_housing['Avg. Area Number of Bedrooms']\n",
    "df_housing[['Price','Avg. Area House Age','Total_room_area', 'Area Population']].describe()"
   ]
  },
  {
   "cell_type": "markdown",
   "id": "b65b6ac6",
   "metadata": {},
   "source": [
    "<p><b><u>Harga rumah mahal seperti apa ciri-cirinya?</u></b><br>Berdasarkan hasil analisa diatas, maka dapat dilihat adanya korelasi antara harga rumah dengan: <ul><li>umur rumah,</li><li>jumlah kamar yang ada, dan</li><li>populasi</li></ul>dimana terdapat korelasi positif antara harga rumah dengan ketiga aspek tersebut. Dengan demikian, semakin tua umur rumah, semakin banyak jumlah kamar yang ada, dan semakin tinggi populasi di lokasi rumah tersebut, maka akan semakin tinggi harga rumah tersebut</p>"
   ]
  },
  {
   "cell_type": "code",
   "execution_count": null,
   "id": "16d0cfe8",
   "metadata": {},
   "outputs": [],
   "source": [
    "df_housing.groupby('Price')['Avg. Area Income'].mean().plot()"
   ]
  },
  {
   "cell_type": "markdown",
   "id": "f9e71ec6",
   "metadata": {},
   "source": [
    "<p><b><u>Impact income ke pembelian rumah</u></b><br>Berdasarkan chart plot diatas, maka dapat dilihat adanya korelasi positif antara harga rumah dengan rerata pendapatan pada area tersebut. Namun </p>"
   ]
  },
  {
   "cell_type": "markdown",
   "id": "989db0e1",
   "metadata": {},
   "source": [
    "<h2> Sesi 8 </h2>"
   ]
  },
  {
   "cell_type": "code",
   "execution_count": 2,
   "id": "6611fc47",
   "metadata": {},
   "outputs": [
    {
     "data": {
      "text/plain": [
       "<Figure size 432x288 with 0 Axes>"
      ]
     },
     "metadata": {},
     "output_type": "display_data"
    },
    {
     "data": {
      "image/png": "[encoded data removed]",
      "text/plain": [
       "<Figure size 1152x288 with 2 Axes>"
      ]
     },
     "metadata": {
      "needs_background": "light"
     },
     "output_type": "display_data"
    }
   ],
   "source": [
    "import numpy as np\n",
    "import pandas as pd\n",
    "import visualisation as vs\n",
    "\n",
    "df_can = pd.read_excel('Canada.xlsx', sheet_name='Canada by Citizenship',skiprows=range(20),skipfooter=2)\n",
    "df_can_drop = df_can.drop(['Type','Coverage','AREA','REG','DEV'],axis=1,inplace=False)\n",
    "df_can_rename = df_can_drop.rename(columns={'OdName':'Country','AreaName':'Continent','RegName':'Region'},inplace=False)\n",
    "df_can_index = df_can_rename.set_index('Country',inplace=False)\n",
    "df_can_index['Total'] = df_can_index.sum(axis=1)\n",
    "df_dsn = df_can_index.loc[['Denmark','Norway','Sweden'],:]\n",
    "\n",
    "vs.waffle_chart(df_dsn.index.values,df_dsn['Total'],10,40)"
   ]
  },
  {
   "cell_type": "code",
   "execution_count": null,
   "id": "c3568152",
   "metadata": {},
   "outputs": [],
   "source": [
    "from PIL import Image\n",
    "alice_mask = np.array(Image.open('alice_mask.png'))"
   ]
  },
  {
   "cell_type": "code",
   "execution_count": null,
   "id": "f19c1d9a",
   "metadata": {},
   "outputs": [],
   "source": [
    "text = open('alice_novel.txt','r').read()\n",
    "vs.word_cloud(text,'white',2000,alice_mask)"
   ]
  },
  {
   "cell_type": "code",
   "execution_count": 16,
   "id": "3c81aa26",
   "metadata": {},
   "outputs": [
    {
     "ename": "NameError",
     "evalue": "name 'Date' is not defined",
     "output_type": "error",
     "traceback": [
      "\u001b[0;31m---------------------------------------------------------------------------\u001b[0m",
      "\u001b[0;31mNameError\u001b[0m                                 Traceback (most recent call last)",
      "\u001b[0;32m<ipython-input-16-9a0dfa01238a>\u001b[0m in \u001b[0;36m<module>\u001b[0;34m\u001b[0m\n\u001b[1;32m      4\u001b[0m \u001b[0mdf_data_earthquake\u001b[0m \u001b[0;34m=\u001b[0m \u001b[0mdf_data_earthquake\u001b[0m\u001b[0;34m.\u001b[0m\u001b[0miloc\u001b[0m\u001b[0;34m[\u001b[0m\u001b[0;36m0\u001b[0m\u001b[0;34m:\u001b[0m\u001b[0;36m1000\u001b[0m\u001b[0;34m,\u001b[0m \u001b[0;34m:\u001b[0m\u001b[0;34m]\u001b[0m\u001b[0;34m\u001b[0m\u001b[0;34m\u001b[0m\u001b[0m\n\u001b[1;32m      5\u001b[0m \u001b[0;34m\u001b[0m\u001b[0m\n\u001b[0;32m----> 6\u001b[0;31m \u001b[0mdf_tot\u001b[0m \u001b[0;34m=\u001b[0m \u001b[0mpd\u001b[0m\u001b[0;34m.\u001b[0m\u001b[0mDataFrame\u001b[0m\u001b[0;34m(\u001b[0m\u001b[0mdf_data_earthquake\u001b[0m\u001b[0;34m[\u001b[0m\u001b[0mDate\u001b[0m\u001b[0;34m]\u001b[0m\u001b[0;34m.\u001b[0m\u001b[0msum\u001b[0m\u001b[0;34m(\u001b[0m\u001b[0maxis\u001b[0m\u001b[0;34m=\u001b[0m\u001b[0;36m0\u001b[0m\u001b[0;34m)\u001b[0m\u001b[0;34m)\u001b[0m\u001b[0;34m\u001b[0m\u001b[0;34m\u001b[0m\u001b[0m\n\u001b[0m\u001b[1;32m      7\u001b[0m \u001b[0mdf_tot\u001b[0m\u001b[0;34m.\u001b[0m\u001b[0mindex\u001b[0m \u001b[0;34m=\u001b[0m \u001b[0mmap\u001b[0m\u001b[0;34m(\u001b[0m\u001b[0mfloat\u001b[0m\u001b[0;34m,\u001b[0m\u001b[0mdf_tot\u001b[0m\u001b[0;34m.\u001b[0m\u001b[0mindex\u001b[0m\u001b[0;34m)\u001b[0m\u001b[0;34m\u001b[0m\u001b[0;34m\u001b[0m\u001b[0m\n\u001b[1;32m      8\u001b[0m \u001b[0mdf_tot\u001b[0m\u001b[0;34m.\u001b[0m\u001b[0mreset\u001b[0m\u001b[0;34m.\u001b[0m\u001b[0mindex\u001b[0m\u001b[0;34m(\u001b[0m\u001b[0minpace\u001b[0m\u001b[0;34m=\u001b[0m\u001b[0;32mTrue\u001b[0m\u001b[0;34m)\u001b[0m\u001b[0;34m\u001b[0m\u001b[0;34m\u001b[0m\u001b[0m\n",
      "\u001b[0;31mNameError\u001b[0m: name 'Date' is not defined"
     ]
    }
   ],
   "source": [
    "df_data_earthquake = pd.read_csv('earthquake_data.csv')\n",
    "df_data_earthquake = df_data_earthquake[['Date','Magnitude']]\n",
    "\n",
    "df_data_earthquake = df_data_earthquake.iloc[0:1000, :]\n",
    "\n",
    "df_tot = pd.DataFrame(df_data_earthquake[Date].sum(axis=0))\n",
    "df_tot.index = map(float,df_tot.index)\n",
    "df_tot.reset.index(inpace=True)\n",
    "df_tot.columns = ['year','magnitude']\n",
    "\n",
    "import seaborn as sns\n",
    "ax = sns.regplot(x='year',y='magnitude',data=df_tot)"
   ]
  },
  {
   "cell_type": "code",
   "execution_count": null,
   "id": "523fcb02",
   "metadata": {
    "scrolled": true
   },
   "outputs": [],
   "source": [
    "import folium\n",
    "\n",
    "df_data = pd.read_csv('Police_Department_Incidents_-_Previous_Year__2016_.csv')\n",
    "df_data = df_data.iloc[0:1000, :]\n",
    "\n",
    "latitude = 37.77\n",
    "longitude = -122.42\n",
    "\n",
    "from folium import plugins\n",
    "\n",
    "sanfran_map = folium.Map(location=[latitude,longitude], zoom_start=12)\n",
    "\n",
    "incidents = plugins.MarkerCluster().add_to(sanfran_map)\n",
    "\n",
    "for lat, lng, label, in zip(df_data.Y, df_data.X,df_data.Category):\n",
    "    folium.Marker(\n",
    "    location=[lat,lng],\n",
    "    icon=None,\n",
    "    popup=label,\n",
    "    ).add_to(incidents)\n",
    "    \n",
    "sanfran_map"
   ]
  },
  {
   "cell_type": "code",
   "execution_count": null,
   "id": "6712b7dc",
   "metadata": {},
   "outputs": [],
   "source": [
    "import folium\n",
    "\n",
    "df_data_earthquake = pd.read_csv('earthquake_data.csv')\n",
    "df_data_earthquake = df_data_earthquake.iloc[0:100, :]\n",
    "\n",
    "latitude = 0 #df_data_earthquake['Latitude'].mean()\n",
    "longitude = 0 #df_data_earthquake['Longitude'].mean()\n",
    "\n",
    "from folium import plugins\n",
    "\n",
    "earthquake_map = folium.Map(location=[latitude,longitude], zoom_start=0.5)\n",
    "\n",
    "incidents = plugins.MarkerCluster().add_to(earthquake_map)\n",
    "\n",
    "for lat, lng, label, in zip(df_data_earthquake.Latitude, df_data_earthquake.Longitude,df_data_earthquake.Type):\n",
    "    folium.Marker(\n",
    "    location=[lat,lng],\n",
    "    icon=None,\n",
    "    popup=label,\n",
    "    ).add_to(incidents)\n",
    "    \n",
    "earthquake_map"
   ]
  }
 ],
 "metadata": {
  "kernelspec": {
   "display_name": "Python 3",
   "language": "python",
   "name": "python3"
  },
  "language_info": {
   "codemirror_mode": {
    "name": "ipython",
    "version": 3
   },
   "file_extension": ".py",
   "mimetype": "text/x-python",
   "name": "python",
   "nbconvert_exporter": "python",
   "pygments_lexer": "ipython3",
   "version": "3.8.8"
  }
 },
 "nbformat": 4,
 "nbformat_minor": 5
}
