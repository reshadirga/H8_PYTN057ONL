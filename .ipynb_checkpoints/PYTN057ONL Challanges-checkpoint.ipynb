{
 "cells": [
  {
   "cell_type": "markdown",
   "id": "7e40abb9",
   "metadata": {},
   "source": [
    "<h2> Sesi 1 - Challenge: coba create gabungan antara list, string, dan integer yang nanti dicompare dengan menggunakan variable </h2>"
   ]
  },
  {
   "cell_type": "code",
   "execution_count": null,
   "id": "3b4a8e47",
   "metadata": {
    "scrolled": false
   },
   "outputs": [],
   "source": [
    "list_1 = ['a', 2, 'c', 3, 'de']\n",
    "str_1 = 'I am me'\n",
    "int_1 = 99"
   ]
  },
  {
   "cell_type": "code",
   "execution_count": null,
   "id": "7e9f3d61",
   "metadata": {},
   "outputs": [],
   "source": [
    "merge_1 = [list_1, str_1, int_1]\n",
    "print(merge_1)"
   ]
  },
  {
   "cell_type": "code",
   "execution_count": null,
   "id": "8e552ad1",
   "metadata": {},
   "outputs": [],
   "source": [
    "int_2 = 100\n",
    "print(merge_1[2] == int_2)\n",
    "\n",
    "str_list_1 = 'a2c3de'\n",
    "print(merge_1[0] == str_list_1)"
   ]
  },
  {
   "cell_type": "markdown",
   "id": "db986dfb",
   "metadata": {},
   "source": [
    "<h2> Sesi 2 - Challenge</h2>"
   ]
  },
  {
   "cell_type": "code",
   "execution_count": null,
   "id": "99cf84b8",
   "metadata": {},
   "outputs": [],
   "source": [
    "nama_panjang = input('nama panjang: ')\n",
    "nama_pendek = input('nama pendek: ')\n",
    "umur = input('umur: ')\n",
    "\n",
    "list_string_nama_panjang = nama_panjang.split()\n",
    "jumlah_kata = len(list_string_nama_panjang)\n",
    "\n",
    "if jumlah_kata==3:\n",
    "    print(nama_panjang)\n",
    "elif jumlah_kata!=3:\n",
    "    if int(umur) % 2 == 0:\n",
    "        print(nama_panjang)\n",
    "    else:\n",
    "        print(nama_pendek)"
   ]
  },
  {
   "cell_type": "code",
   "execution_count": null,
   "id": "2070f238",
   "metadata": {},
   "outputs": [],
   "source": [
    "i = 0\n",
    "\n",
    "clean_nama_panjang = nama_panjang.replace(' ','')\n",
    "\n",
    "for n in clean_nama_panjang:\n",
    "    i += 1\n",
    "    print(i)"
   ]
  },
  {
   "cell_type": "code",
   "execution_count": null,
   "id": "1cc87ad8",
   "metadata": {},
   "outputs": [],
   "source": [
    "nama = nama_pendek\n",
    "list_1 = [1,2,3,4]\n",
    "list_2 = [1,2,3,5]\n",
    "\n",
    "if list_1 == list_2:\n",
    "    print(list_1)\n",
    "else:\n",
    "    for i in list_1:\n",
    "        print(nama)"
   ]
  },
  {
   "cell_type": "markdown",
   "id": "3a04dc24",
   "metadata": {},
   "source": [
    "<h2> Sesi 3 - Challenge </h2>"
   ]
  },
  {
   "cell_type": "markdown",
   "id": "65970b97",
   "metadata": {},
   "source": [
    "<p> kita membutuhkan fungsi untuk menghitung perkalian dari item2 di list A, kemudian hasil dari perkalian tersebut dikalikan ke setiap item di list B\n",
    "contoh:\n",
    "list_a = [1,2,3,4]\n",
    "list_b = [4,5,6,7]\n",
    "maka hasil dari fungsi: [96,120,144,168] </p>"
   ]
  },
  {
   "cell_type": "code",
   "execution_count": null,
   "id": "a7ad2d74",
   "metadata": {},
   "outputs": [],
   "source": [
    "list_a = [1,2,3,4]\n",
    "list_b = [4,5,6,7]\n",
    "\n",
    "def func_case1(listA, listB):\n",
    "    result = 1\n",
    "    \n",
    "    for x in listA:\n",
    "        result = result * x;\n",
    "    \n",
    "    for x in range(0,len(listB),1):\n",
    "        listB[x] = result * listB[x]\n",
    "        \n",
    "    return listB;\n",
    "\n",
    "print(func_case1(list_a,list_b))"
   ]
  },
  {
   "cell_type": "markdown",
   "id": "9371b525",
   "metadata": {},
   "source": [
    "kita membuat 2 fungsi, dimana fungsi pertama adalah untuk mengecek input itu adalah suatu angka bukan huruf dan apakah angka itu dapat dibagi oleh suatu angka, hasil dari fungsi tersebut adalah true atau false\n",
    "fungsi yg kedua adalah apabila hasil dari fungsi pertama itu adalah true, maka kita akan mempangkatkan angka tersebut dengan pangkat yang kita inginkan, dan apabila false maka keluar kata2: \"input bukan angka\" atau \"input tidak bisa dibagi 2\"\n",
    "contoh:\n",
    "input: 10\n",
    "pangkat: 3\n",
    "maka hasil"
   ]
  },
  {
   "cell_type": "code",
   "execution_count": null,
   "id": "fe4a7cfb",
   "metadata": {},
   "outputs": [],
   "source": [
    "base = input('input: ')\n",
    "power = int(input('pangkat: '))\n",
    "\n",
    "def func_case2_isDivisibleByTwo(num):\n",
    "    \n",
    "    if base.isnumeric():\n",
    "        if int(num)%2 == 0:\n",
    "            return True\n",
    "        else:\n",
    "            print('input tidak bisa dibagi 2');\n",
    "            return False\n",
    "    else:\n",
    "        print('input bukan angka');\n",
    "        return False\n",
    "    \n",
    "def func_case2_calculatePower(baseNum, powerNum):\n",
    "    \n",
    "    check = func_case2_isDivisibleByTwo(baseNum)\n",
    "    \n",
    "    if check:\n",
    "        return int(baseNum)**powerNum\n",
    "    else:\n",
    "        return ''\n",
    "\n",
    "print(func_case2_calculatePower(base, power))"
   ]
  },
  {
   "cell_type": "markdown",
   "id": "267e69b9",
   "metadata": {},
   "source": [
    "<h2> Sesi 4 - Challenge </h2>"
   ]
  },
  {
   "cell_type": "code",
   "execution_count": null,
   "id": "11db2797",
   "metadata": {},
   "outputs": [],
   "source": [
    "import numpy as np"
   ]
  },
  {
   "cell_type": "markdown",
   "id": "9468fb13",
   "metadata": {},
   "source": [
    "Case:<br></br>Create Create numpy array from your inputted full name in the form of numbers based on order in alphabets. You can use this translater to change from alphabet to number:\n",
    "```py\n",
    "letter_to_word = {'a': 1, 'c': 3, 'b': 2, 'e': 5, 'd': 4, 'g': 7, 'f': 6, 'i': 9, 'h': 8, 'k': 11, 'j': 10, 'm': 13, 'l': 12, 'o': 15, 'n': 14, 'q': 17, 'p': 16, 's': 19, 'r': 18, 'u': 21, 't': 20, 'w': 23, 'v': 22, 'y': 25, 'x': 24, 'z': 26}\n",
    "```\n",
    "Also add repetition on the number based on your inputted number.\n",
    "Example:\n",
    "inputted full name = 'Jenny'<br>\n",
    "repeated = 4 times<br>\n",
    "result:<br>\n",
    "```\n",
    "[[10  5 14 14 25]\n",
    " [10  5 14 14 25]\n",
    " [10  5 14 14 25]\n",
    " [10  5 14 14 25]]\n",
    "```"
   ]
  },
  {
   "cell_type": "code",
   "execution_count": null,
   "id": "c23a5e4e",
   "metadata": {},
   "outputs": [],
   "source": [
    "letter_to_word = {'a': 1, 'c': 3, 'b': 2, 'e': 5, 'd': 4, 'g': 7, 'f': 6, 'i': 9, 'h': 8, 'k': 11, 'j': 10, 'm': 13, 'l': 12, 'o': 15, 'n': 14, 'q': 17, 'p': 16, 's': 19, 'r': 18, 'u': 21, 't': 20, 'w': 23, 'v': 22, 'y': 25, 'x': 24, 'z': 26}\n",
    "\n",
    "name = str(input('name:'))\n",
    "repeated = int(input('repeated:'))\n",
    "\n",
    "# Step 1 - create name array\n",
    "\n",
    "arr_name = np.empty(0, dtype=int)\n",
    "\n",
    "for i in name:\n",
    "    arr_name = np.append(arr_name, np.array([letter_to_word[i]]))\n",
    "\n",
    "# Step 2 - repeat array\n",
    "\n",
    "arr_result = np.full((repeated,len(arr_name)), arr_name, dtype=int)\n",
    "\n",
    "print(arr_result)"
   ]
  },
  {
   "cell_type": "markdown",
   "id": "06eccdf2",
   "metadata": {},
   "source": [
    "Case:<br></br>Create data housing price using random number in numpy array with below column:\n",
    "* house price in integer\n",
    "* square feet in integer\n",
    "* is_new in 0 or 1\n",
    "* city in categorical integer\n",
    "\n",
    "After that create 2 arrays that are for testing and training purposes.\n",
    "\n",
    "The input will be:\n",
    "* number of data\n",
    "* range of data in each column"
   ]
  },
  {
   "cell_type": "code",
   "execution_count": null,
   "id": "a860b3e5",
   "metadata": {},
   "outputs": [],
   "source": [
    "number_of_house = int(input('number of data: '))\n",
    "\n",
    "print('')\n",
    "print('range data: ')\n",
    "\n",
    "min_house_price = int(input('minimum house price: '))\n",
    "max_house_price = int(input('maximum house price: '))\n",
    "\n",
    "min_house_area = int(input('minimum house area: '))\n",
    "max_house_area = int(input('maximum house area: '))\n",
    "\n",
    "number_of_cities = int(input('number of cities: '))\n",
    "\n",
    "print('')\n",
    "houses = np.random.randint([min_house_price, min_house_area, 0, 1], [max_house_price+1,max_house_area+1,2,number_of_cities+1],size=(number_of_house,4))\n",
    "\n",
    "print(houses)\n"
   ]
  },
  {
   "cell_type": "markdown",
   "id": "60791def",
   "metadata": {},
   "source": [
    "<h2> Sesi 5 - Challenge </h2>"
   ]
  },
  {
   "cell_type": "code",
   "execution_count": 1,
   "id": "11f22361",
   "metadata": {},
   "outputs": [],
   "source": [
    "import numpy as np\n",
    "import pandas as pd"
   ]
  },
  {
   "cell_type": "code",
   "execution_count": 2,
   "id": "754d6f79",
   "metadata": {},
   "outputs": [],
   "source": [
    "a = pd.read_csv('https://raw.githubusercontent.com/guipsamora/pandas_exercises/master/04_Apply/Students_Alcohol_Consumption/student-mat.csv')"
   ]
  },
  {
   "cell_type": "code",
   "execution_count": 3,
   "id": "640e870b",
   "metadata": {},
   "outputs": [
    {
     "name": "stdout",
     "output_type": "stream",
     "text": [
      "<class 'pandas.core.frame.DataFrame'>\n",
      "RangeIndex: 395 entries, 0 to 394\n",
      "Data columns (total 33 columns):\n",
      " #   Column      Non-Null Count  Dtype \n",
      "---  ------      --------------  ----- \n",
      " 0   school      395 non-null    object\n",
      " 1   sex         395 non-null    object\n",
      " 2   age         395 non-null    int64 \n",
      " 3   address     395 non-null    object\n",
      " 4   famsize     395 non-null    object\n",
      " 5   Pstatus     395 non-null    object\n",
      " 6   Medu        395 non-null    int64 \n",
      " 7   Fedu        395 non-null    int64 \n",
      " 8   Mjob        395 non-null    object\n",
      " 9   Fjob        395 non-null    object\n",
      " 10  reason      395 non-null    object\n",
      " 11  guardian    395 non-null    object\n",
      " 12  traveltime  395 non-null    int64 \n",
      " 13  studytime   395 non-null    int64 \n",
      " 14  failures    395 non-null    int64 \n",
      " 15  schoolsup   395 non-null    object\n",
      " 16  famsup      395 non-null    object\n",
      " 17  paid        395 non-null    object\n",
      " 18  activities  395 non-null    object\n",
      " 19  nursery     395 non-null    object\n",
      " 20  higher      395 non-null    object\n",
      " 21  internet    395 non-null    object\n",
      " 22  romantic    395 non-null    object\n",
      " 23  famrel      395 non-null    int64 \n",
      " 24  freetime    395 non-null    int64 \n",
      " 25  goout       395 non-null    int64 \n",
      " 26  Dalc        395 non-null    int64 \n",
      " 27  Walc        395 non-null    int64 \n",
      " 28  health      395 non-null    int64 \n",
      " 29  absences    395 non-null    int64 \n",
      " 30  G1          395 non-null    int64 \n",
      " 31  G2          395 non-null    int64 \n",
      " 32  G3          395 non-null    int64 \n",
      "dtypes: int64(16), object(17)\n",
      "memory usage: 102.0+ KB\n"
     ]
    }
   ],
   "source": [
    "a.info()"
   ]
  },
  {
   "cell_type": "code",
   "execution_count": 7,
   "id": "2f0526ff",
   "metadata": {},
   "outputs": [
    {
     "data": {
      "text/html": [
       "<div>\n",
       "<style scoped>\n",
       "    .dataframe tbody tr th:only-of-type {\n",
       "        vertical-align: middle;\n",
       "    }\n",
       "\n",
       "    .dataframe tbody tr th {\n",
       "        vertical-align: top;\n",
       "    }\n",
       "\n",
       "    .dataframe thead th {\n",
       "        text-align: right;\n",
       "    }\n",
       "</style>\n",
       "<table border=\"1\" class=\"dataframe\">\n",
       "  <thead>\n",
       "    <tr style=\"text-align: right;\">\n",
       "      <th></th>\n",
       "      <th>Total_Time</th>\n",
       "      <th>traveltime</th>\n",
       "      <th>studytime</th>\n",
       "    </tr>\n",
       "  </thead>\n",
       "  <tbody>\n",
       "    <tr>\n",
       "      <th>count</th>\n",
       "      <td>395.000000</td>\n",
       "      <td>395.000000</td>\n",
       "      <td>395.000000</td>\n",
       "    </tr>\n",
       "    <tr>\n",
       "      <th>mean</th>\n",
       "      <td>3.483544</td>\n",
       "      <td>1.448101</td>\n",
       "      <td>2.035443</td>\n",
       "    </tr>\n",
       "    <tr>\n",
       "      <th>std</th>\n",
       "      <td>1.035711</td>\n",
       "      <td>0.697505</td>\n",
       "      <td>0.839240</td>\n",
       "    </tr>\n",
       "    <tr>\n",
       "      <th>min</th>\n",
       "      <td>2.000000</td>\n",
       "      <td>1.000000</td>\n",
       "      <td>1.000000</td>\n",
       "    </tr>\n",
       "    <tr>\n",
       "      <th>25%</th>\n",
       "      <td>3.000000</td>\n",
       "      <td>1.000000</td>\n",
       "      <td>1.000000</td>\n",
       "    </tr>\n",
       "    <tr>\n",
       "      <th>50%</th>\n",
       "      <td>3.000000</td>\n",
       "      <td>1.000000</td>\n",
       "      <td>2.000000</td>\n",
       "    </tr>\n",
       "    <tr>\n",
       "      <th>75%</th>\n",
       "      <td>4.000000</td>\n",
       "      <td>2.000000</td>\n",
       "      <td>2.000000</td>\n",
       "    </tr>\n",
       "    <tr>\n",
       "      <th>max</th>\n",
       "      <td>8.000000</td>\n",
       "      <td>4.000000</td>\n",
       "      <td>4.000000</td>\n",
       "    </tr>\n",
       "  </tbody>\n",
       "</table>\n",
       "</div>"
      ],
      "text/plain": [
       "       Total_Time  traveltime   studytime\n",
       "count  395.000000  395.000000  395.000000\n",
       "mean     3.483544    1.448101    2.035443\n",
       "std      1.035711    0.697505    0.839240\n",
       "min      2.000000    1.000000    1.000000\n",
       "25%      3.000000    1.000000    1.000000\n",
       "50%      3.000000    1.000000    2.000000\n",
       "75%      4.000000    2.000000    2.000000\n",
       "max      8.000000    4.000000    4.000000"
      ]
     },
     "execution_count": 7,
     "metadata": {},
     "output_type": "execute_result"
    }
   ],
   "source": [
    "a['Total_Time'] = a['traveltime'] + a['studytime']\n",
    "a[['Total_Time', 'traveltime', 'studytime']].describe()"
   ]
  },
  {
   "cell_type": "code",
   "execution_count": null,
   "id": "b62e314b",
   "metadata": {},
   "outputs": [],
   "source": []
  },
  {
   "cell_type": "code",
   "execution_count": null,
   "id": "2fbfd458",
   "metadata": {},
   "outputs": [],
   "source": []
  }
 ],
 "metadata": {
  "kernelspec": {
   "display_name": "Python 3",
   "language": "python",
   "name": "python3"
  },
  "language_info": {
   "codemirror_mode": {
    "name": "ipython",
    "version": 3
   },
   "file_extension": ".py",
   "mimetype": "text/x-python",
   "name": "python",
   "nbconvert_exporter": "python",
   "pygments_lexer": "ipython3",
   "version": "3.8.8"
  }
 },
 "nbformat": 4,
 "nbformat_minor": 5
}
