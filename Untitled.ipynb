{
 "cells": [
  {
   "cell_type": "markdown",
   "id": "7e40abb9",
   "metadata": {},
   "source": [
    "<h2> Challenge: coba create gabungan antara list, string, dan integer yang nanti dicompare dengan menggunakan variable </h2>"
   ]
  },
  {
   "cell_type": "code",
   "execution_count": 1,
   "id": "3b4a8e47",
   "metadata": {
    "scrolled": false
   },
   "outputs": [],
   "source": [
    "list_1 = ['a', 2, 'c', 3, 'de']\n",
    "str_1 = 'I am me'\n",
    "int_1 = 99"
   ]
  },
  {
   "cell_type": "code",
   "execution_count": 2,
   "id": "7e9f3d61",
   "metadata": {},
   "outputs": [
    {
     "name": "stdout",
     "output_type": "stream",
     "text": [
      "[['a', 2, 'c', 3, 'de'], 'I am Batman', 99]\n"
     ]
    }
   ],
   "source": [
    "merge_1 = [list_1, str_1, int_1]\n",
    "print(merge_1)"
   ]
  },
  {
   "cell_type": "code",
   "execution_count": 3,
   "id": "8e552ad1",
   "metadata": {},
   "outputs": [
    {
     "name": "stdout",
     "output_type": "stream",
     "text": [
      "False\n",
      "False\n"
     ]
    }
   ],
   "source": [
    "int_2 = 100\n",
    "print(merge_1[2] == int_2)\n",
    "\n",
    "str_list_1 = 'a2c3de'\n",
    "print(merge_1[0] == str_list_1)"
   ]
  }
 ],
 "metadata": {
  "kernelspec": {
   "display_name": "Python 3",
   "language": "python",
   "name": "python3"
  },
  "language_info": {
   "codemirror_mode": {
    "name": "ipython",
    "version": 3
   },
   "file_extension": ".py",
   "mimetype": "text/x-python",
   "name": "python",
   "nbconvert_exporter": "python",
   "pygments_lexer": "ipython3",
   "version": "3.8.8"
  }
 },
 "nbformat": 4,
 "nbformat_minor": 5
}
