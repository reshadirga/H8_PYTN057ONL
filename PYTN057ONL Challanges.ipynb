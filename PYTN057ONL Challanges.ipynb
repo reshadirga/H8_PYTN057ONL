{
 "cells": [
  {
   "cell_type": "markdown",
   "id": "7e40abb9",
   "metadata": {},
   "source": [
    "<h2> Sesi 1 - Challenge: coba create gabungan antara list, string, dan integer yang nanti dicompare dengan menggunakan variable </h2>"
   ]
  },
  {
   "cell_type": "code",
   "execution_count": null,
   "id": "3b4a8e47",
   "metadata": {
    "scrolled": false
   },
   "outputs": [],
   "source": [
    "list_1 = ['a', 2, 'c', 3, 'de']\n",
    "str_1 = 'I am me'\n",
    "int_1 = 99"
   ]
  },
  {
   "cell_type": "code",
   "execution_count": null,
   "id": "7e9f3d61",
   "metadata": {},
   "outputs": [],
   "source": [
    "merge_1 = [list_1, str_1, int_1]\n",
    "print(merge_1)"
   ]
  },
  {
   "cell_type": "code",
   "execution_count": null,
   "id": "8e552ad1",
   "metadata": {},
   "outputs": [],
   "source": [
    "int_2 = 100\n",
    "print(merge_1[2] == int_2)\n",
    "\n",
    "str_list_1 = 'a2c3de'\n",
    "print(merge_1[0] == str_list_1)"
   ]
  },
  {
   "cell_type": "markdown",
   "id": "db986dfb",
   "metadata": {},
   "source": [
    "<h2> Sesi 2 - Challenge</h2>"
   ]
  },
  {
   "cell_type": "code",
   "execution_count": null,
   "id": "99cf84b8",
   "metadata": {},
   "outputs": [],
   "source": [
    "nama_panjang = input('nama panjang: ')\n",
    "nama_pendek = input('nama pendek: ')\n",
    "umur = input('umur: ')\n",
    "\n",
    "list_string_nama_panjang = nama_panjang.split()\n",
    "jumlah_kata = len(list_string_nama_panjang)\n",
    "\n",
    "if jumlah_kata==3:\n",
    "    print(nama_panjang)\n",
    "elif jumlah_kata!=3:\n",
    "    if int(umur) % 2 == 0:\n",
    "        print(nama_panjang)\n",
    "    else:\n",
    "        print(nama_pendek)"
   ]
  },
  {
   "cell_type": "code",
   "execution_count": null,
   "id": "2070f238",
   "metadata": {},
   "outputs": [],
   "source": [
    "i = 0\n",
    "\n",
    "clean_nama_panjang = nama_panjang.replace(' ','')\n",
    "\n",
    "for n in clean_nama_panjang:\n",
    "    i += 1\n",
    "    print(i)"
   ]
  },
  {
   "cell_type": "code",
   "execution_count": null,
   "id": "1cc87ad8",
   "metadata": {},
   "outputs": [],
   "source": [
    "nama = nama_pendek\n",
    "list_1 = [1,2,3,4]\n",
    "list_2 = [1,2,3,5]\n",
    "\n",
    "if list_1 == list_2:\n",
    "    print(list_1)\n",
    "else:\n",
    "    for i in list_1:\n",
    "        print(nama)"
   ]
  },
  {
   "cell_type": "markdown",
   "id": "3a04dc24",
   "metadata": {},
   "source": [
    "<h2> Sesi 3 - Challenge </h2>"
   ]
  },
  {
   "cell_type": "markdown",
   "id": "65970b97",
   "metadata": {},
   "source": [
    "<p> kita membutuhkan fungsi untuk menghitung perkalian dari item2 di list A, kemudian hasil dari perkalian tersebut dikalikan ke setiap item di list B\n",
    "contoh:\n",
    "list_a = [1,2,3,4]\n",
    "list_b = [4,5,6,7]\n",
    "maka hasil dari fungsi: [96,120,144,168] </p>"
   ]
  },
  {
   "cell_type": "code",
   "execution_count": 1,
   "id": "a7ad2d74",
   "metadata": {},
   "outputs": [
    {
     "name": "stdout",
     "output_type": "stream",
     "text": [
      "[96, 120, 144, 168]\n"
     ]
    }
   ],
   "source": [
    "list_a = [1,2,3,4]\n",
    "list_b = [4,5,6,7]\n",
    "\n",
    "def func_case1(listA, listB):\n",
    "    result = 1\n",
    "    \n",
    "    for x in listA:\n",
    "        result = result * x;\n",
    "    \n",
    "    for x in range(0,len(listB),1):\n",
    "        listB[x] = result * listB[x]\n",
    "        \n",
    "    return listB;\n",
    "\n",
    "print(func_case1(list_a,list_b))"
   ]
  },
  {
   "cell_type": "markdown",
   "id": "9371b525",
   "metadata": {},
   "source": [
    "kita membuat 2 fungsi, dimana fungsi pertama adalah untuk mengecek input itu adalah suatu angka bukan huruf dan apakah angka itu dapat dibagi oleh suatu angka, hasil dari fungsi tersebut adalah true atau false\n",
    "fungsi yg kedua adalah apabila hasil dari fungsi pertama itu adalah true, maka kita akan mempangkatkan angka tersebut dengan pangkat yang kita inginkan, dan apabila false maka keluar kata2: \"input bukan angka\" atau \"input tidak bisa dibagi 2\"\n",
    "contoh:\n",
    "input: 10\n",
    "pangkat: 3\n",
    "maka hasil"
   ]
  },
  {
   "cell_type": "code",
   "execution_count": 2,
   "id": "fe4a7cfb",
   "metadata": {},
   "outputs": [
    {
     "name": "stdout",
     "output_type": "stream",
     "text": [
      "input: 10\n",
      "pangkat: 3\n",
      "1000\n"
     ]
    }
   ],
   "source": [
    "base = input('input: ')\n",
    "power = int(input('pangkat: '))\n",
    "\n",
    "def func_case2_isDivisibleByTwo(num):\n",
    "    \n",
    "    if base.isnumeric():\n",
    "        if int(num)%2 == 0:\n",
    "            return True\n",
    "        else:\n",
    "            print('input tidak bisa dibagi 2');\n",
    "            return False\n",
    "    else:\n",
    "        print('input bukan angka');\n",
    "        return False\n",
    "    \n",
    "def func_case2_calculatePower(baseNum, powerNum):\n",
    "    \n",
    "    check = func_case2_isDivisibleByTwo(baseNum)\n",
    "    \n",
    "    if check:\n",
    "        return int(baseNum)**powerNum\n",
    "    else:\n",
    "        return ''\n",
    "\n",
    "print(func_case2_calculatePower(base, power))"
   ]
  }
 ],
 "metadata": {
  "kernelspec": {
   "display_name": "Python 3",
   "language": "python",
   "name": "python3"
  },
  "language_info": {
   "codemirror_mode": {
    "name": "ipython",
    "version": 3
   },
   "file_extension": ".py",
   "mimetype": "text/x-python",
   "name": "python",
   "nbconvert_exporter": "python",
   "pygments_lexer": "ipython3",
   "version": "3.8.8"
  }
 },
 "nbformat": 4,
 "nbformat_minor": 5
}
