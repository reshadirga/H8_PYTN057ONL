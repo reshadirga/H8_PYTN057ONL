{
 "cells": [
  {
   "cell_type": "markdown",
   "id": "7e40abb9",
   "metadata": {},
   "source": [
    "<h2> Sesi 1 - Challenge: coba create gabungan antara list, string, dan integer yang nanti dicompare dengan menggunakan variable </h2>"
   ]
  },
  {
   "cell_type": "code",
   "execution_count": null,
   "id": "3b4a8e47",
   "metadata": {
    "scrolled": false
   },
   "outputs": [],
   "source": [
    "list_1 = ['a', 2, 'c', 3, 'de']\n",
    "str_1 = 'I am me'\n",
    "int_1 = 99"
   ]
  },
  {
   "cell_type": "code",
   "execution_count": null,
   "id": "7e9f3d61",
   "metadata": {},
   "outputs": [],
   "source": [
    "merge_1 = [list_1, str_1, int_1]\n",
    "print(merge_1)"
   ]
  },
  {
   "cell_type": "code",
   "execution_count": null,
   "id": "8e552ad1",
   "metadata": {},
   "outputs": [],
   "source": [
    "int_2 = 100\n",
    "print(merge_1[2] == int_2)\n",
    "\n",
    "str_list_1 = 'a2c3de'\n",
    "print(merge_1[0] == str_list_1)"
   ]
  },
  {
   "cell_type": "markdown",
   "id": "5949dcb3",
   "metadata": {},
   "source": [
    "<h2> Sesi 2 - Challenge</h2>"
   ]
  },
  {
   "cell_type": "code",
   "execution_count": null,
   "id": "87b26d29",
   "metadata": {},
   "outputs": [],
   "source": [
    "nama_panjang = input('nama panjang: ')\n",
    "nama_pendek = input('nama pendek: ')\n",
    "umur = input('umur: ')\n",
    "\n",
    "list_string_nama_panjang = nama_panjang.split()\n",
    "jumlah_kata = len(list_string_nama_panjang)\n",
    "\n",
    "if jumlah_kata==3:\n",
    "    print(nama_panjang)\n",
    "elif jumlah_kata!=3:\n",
    "    if int(umur) % 2 == 0:\n",
    "        print(nama_panjang)\n",
    "    else:\n",
    "        print(nama_pendek)"
   ]
  }
 ],
 "metadata": {
  "kernelspec": {
   "display_name": "Python 3",
   "language": "python",
   "name": "python3"
  },
  "language_info": {
   "codemirror_mode": {
    "name": "ipython",
    "version": 3
   },
   "file_extension": ".py",
   "mimetype": "text/x-python",
   "name": "python",
   "nbconvert_exporter": "python",
   "pygments_lexer": "ipython3",
   "version": "3.8.8"
  }
 },
 "nbformat": 4,
 "nbformat_minor": 5
}
