{
 "cells": [
  {
   "cell_type": "markdown",
   "id": "7e40abb9",
   "metadata": {},
   "source": [
    "<h2> Sesi 1 - Challenge: coba create gabungan antara list, string, dan integer yang nanti dicompare dengan menggunakan variable </h2>"
   ]
  },
  {
   "cell_type": "code",
   "execution_count": null,
   "id": "3b4a8e47",
   "metadata": {
    "scrolled": false
   },
   "outputs": [],
   "source": [
    "list_1 = ['a', 2, 'c', 3, 'de']\n",
    "str_1 = 'I am me'\n",
    "int_1 = 99"
   ]
  },
  {
   "cell_type": "code",
   "execution_count": null,
   "id": "7e9f3d61",
   "metadata": {},
   "outputs": [],
   "source": [
    "merge_1 = [list_1, str_1, int_1]\n",
    "print(merge_1)"
   ]
  },
  {
   "cell_type": "code",
   "execution_count": null,
   "id": "8e552ad1",
   "metadata": {},
   "outputs": [],
   "source": [
    "int_2 = 100\n",
    "print(merge_1[2] == int_2)\n",
    "\n",
    "str_list_1 = 'a2c3de'\n",
    "print(merge_1[0] == str_list_1)"
   ]
  },
  {
   "cell_type": "markdown",
   "id": "db986dfb",
   "metadata": {},
   "source": [
    "<h2> Sesi 2 - Challenge</h2>"
   ]
  },
  {
   "cell_type": "code",
   "execution_count": null,
   "id": "99cf84b8",
   "metadata": {},
   "outputs": [],
   "source": [
    "nama_panjang = input('nama panjang: ')\n",
    "nama_pendek = input('nama pendek: ')\n",
    "umur = input('umur: ')\n",
    "\n",
    "list_string_nama_panjang = nama_panjang.split()\n",
    "jumlah_kata = len(list_string_nama_panjang)\n",
    "\n",
    "if jumlah_kata==3:\n",
    "    print(nama_panjang)\n",
    "elif jumlah_kata!=3:\n",
    "    if int(umur) % 2 == 0:\n",
    "        print(nama_panjang)\n",
    "    else:\n",
    "        print(nama_pendek)"
   ]
  },
  {
   "cell_type": "code",
   "execution_count": null,
   "id": "2070f238",
   "metadata": {},
   "outputs": [],
   "source": [
    "i = 0\n",
    "\n",
    "clean_nama_panjang = nama_panjang.replace(' ','')\n",
    "\n",
    "for n in clean_nama_panjang:\n",
    "    i += 1\n",
    "    print(i)"
   ]
  },
  {
   "cell_type": "code",
   "execution_count": null,
   "id": "1cc87ad8",
   "metadata": {},
   "outputs": [],
   "source": [
    "nama = nama_pendek\n",
    "list_1 = [1,2,3,4]\n",
    "list_2 = [1,2,3,5]\n",
    "\n",
    "if list_1 == list_2:\n",
    "    print(list_1)\n",
    "else:\n",
    "    for i in list_1:\n",
    "        print(nama)"
   ]
  },
  {
   "cell_type": "markdown",
   "id": "3a04dc24",
   "metadata": {},
   "source": [
    "<h2> Sesi 3 - Challenge </h2>"
   ]
  },
  {
   "cell_type": "markdown",
   "id": "65970b97",
   "metadata": {},
   "source": [
    "<p> kita membutuhkan fungsi untuk menghitung perkalian dari item2 di list A, kemudian hasil dari perkalian tersebut dikalikan ke setiap item di list B\n",
    "contoh:\n",
    "list_a = [1,2,3,4]\n",
    "list_b = [4,5,6,7]\n",
    "maka hasil dari fungsi: [96,120,144,168] </p>"
   ]
  },
  {
   "cell_type": "code",
   "execution_count": null,
   "id": "a7ad2d74",
   "metadata": {},
   "outputs": [],
   "source": [
    "list_a = [1,2,3,4]\n",
    "list_b = [4,5,6,7]\n",
    "\n",
    "def func_case1(listA, listB):\n",
    "    result = 1\n",
    "    \n",
    "    for x in listA:\n",
    "        result = result * x;\n",
    "    \n",
    "    for x in range(0,len(listB),1):\n",
    "        listB[x] = result * listB[x]\n",
    "        \n",
    "    return listB;\n",
    "\n",
    "print(func_case1(list_a,list_b))"
   ]
  },
  {
   "cell_type": "markdown",
   "id": "9371b525",
   "metadata": {},
   "source": [
    "kita membuat 2 fungsi, dimana fungsi pertama adalah untuk mengecek input itu adalah suatu angka bukan huruf dan apakah angka itu dapat dibagi oleh suatu angka, hasil dari fungsi tersebut adalah true atau false\n",
    "fungsi yg kedua adalah apabila hasil dari fungsi pertama itu adalah true, maka kita akan mempangkatkan angka tersebut dengan pangkat yang kita inginkan, dan apabila false maka keluar kata2: \"input bukan angka\" atau \"input tidak bisa dibagi 2\"\n",
    "contoh:\n",
    "input: 10\n",
    "pangkat: 3\n",
    "maka hasil"
   ]
  },
  {
   "cell_type": "code",
   "execution_count": null,
   "id": "fe4a7cfb",
   "metadata": {},
   "outputs": [],
   "source": [
    "base = input('input: ')\n",
    "power = int(input('pangkat: '))\n",
    "\n",
    "def func_case2_isDivisibleByTwo(num):\n",
    "    \n",
    "    if base.isnumeric():\n",
    "        if int(num)%2 == 0:\n",
    "            return True\n",
    "        else:\n",
    "            print('input tidak bisa dibagi 2');\n",
    "            return False\n",
    "    else:\n",
    "        print('input bukan angka');\n",
    "        return False\n",
    "    \n",
    "def func_case2_calculatePower(baseNum, powerNum):\n",
    "    \n",
    "    check = func_case2_isDivisibleByTwo(baseNum)\n",
    "    \n",
    "    if check:\n",
    "        return int(baseNum)**powerNum\n",
    "    else:\n",
    "        return ''\n",
    "\n",
    "print(func_case2_calculatePower(base, power))"
   ]
  },
  {
   "cell_type": "markdown",
   "id": "267e69b9",
   "metadata": {},
   "source": [
    "<h2> Sesi 4 - Challenge </h2>"
   ]
  },
  {
   "cell_type": "code",
   "execution_count": null,
   "id": "11db2797",
   "metadata": {},
   "outputs": [],
   "source": [
    "import numpy as np"
   ]
  },
  {
   "cell_type": "markdown",
   "id": "9468fb13",
   "metadata": {},
   "source": [
    "Case:<br></br>Create Create numpy array from your inputted full name in the form of numbers based on order in alphabets. You can use this translater to change from alphabet to number:\n",
    "```py\n",
    "letter_to_word = {'a': 1, 'c': 3, 'b': 2, 'e': 5, 'd': 4, 'g': 7, 'f': 6, 'i': 9, 'h': 8, 'k': 11, 'j': 10, 'm': 13, 'l': 12, 'o': 15, 'n': 14, 'q': 17, 'p': 16, 's': 19, 'r': 18, 'u': 21, 't': 20, 'w': 23, 'v': 22, 'y': 25, 'x': 24, 'z': 26}\n",
    "```\n",
    "Also add repetition on the number based on your inputted number.\n",
    "Example:\n",
    "inputted full name = 'Jenny'<br>\n",
    "repeated = 4 times<br>\n",
    "result:<br>\n",
    "```\n",
    "[[10  5 14 14 25]\n",
    " [10  5 14 14 25]\n",
    " [10  5 14 14 25]\n",
    " [10  5 14 14 25]]\n",
    "```"
   ]
  },
  {
   "cell_type": "code",
   "execution_count": null,
   "id": "c23a5e4e",
   "metadata": {},
   "outputs": [],
   "source": [
    "letter_to_word = {'a': 1, 'c': 3, 'b': 2, 'e': 5, 'd': 4, 'g': 7, 'f': 6, 'i': 9, 'h': 8, 'k': 11, 'j': 10, 'm': 13, 'l': 12, 'o': 15, 'n': 14, 'q': 17, 'p': 16, 's': 19, 'r': 18, 'u': 21, 't': 20, 'w': 23, 'v': 22, 'y': 25, 'x': 24, 'z': 26}\n",
    "\n",
    "name = str(input('name:'))\n",
    "repeated = int(input('repeated:'))\n",
    "\n",
    "# Step 1 - create name array\n",
    "\n",
    "arr_name = np.empty(0, dtype=int)\n",
    "\n",
    "for i in name:\n",
    "    arr_name = np.append(arr_name, np.array([letter_to_word[i]]))\n",
    "\n",
    "# Step 2 - repeat array\n",
    "\n",
    "arr_result = np.full((repeated,len(arr_name)), arr_name, dtype=int)\n",
    "\n",
    "print(arr_result)"
   ]
  },
  {
   "cell_type": "markdown",
   "id": "06eccdf2",
   "metadata": {},
   "source": [
    "Case:<br></br>Create data housing price using random number in numpy array with below column:\n",
    "* house price in integer\n",
    "* square feet in integer\n",
    "* is_new in 0 or 1\n",
    "* city in categorical integer\n",
    "\n",
    "After that create 2 arrays that are for testing and training purposes.\n",
    "\n",
    "The input will be:\n",
    "* number of data\n",
    "* range of data in each column"
   ]
  },
  {
   "cell_type": "code",
   "execution_count": null,
   "id": "a860b3e5",
   "metadata": {},
   "outputs": [],
   "source": [
    "number_of_house = int(input('number of data: '))\n",
    "\n",
    "print('')\n",
    "print('range data: ')\n",
    "\n",
    "min_house_price = int(input('minimum house price: '))\n",
    "max_house_price = int(input('maximum house price: '))\n",
    "\n",
    "min_house_area = int(input('minimum house area: '))\n",
    "max_house_area = int(input('maximum house area: '))\n",
    "\n",
    "number_of_cities = int(input('number of cities: '))\n",
    "\n",
    "print('')\n",
    "houses = np.random.randint([min_house_price, min_house_area, 0, 1], [max_house_price+1,max_house_area+1,2,number_of_cities+1],size=(number_of_house,4))\n",
    "\n",
    "print(houses)\n"
   ]
  },
  {
   "cell_type": "markdown",
   "id": "60791def",
   "metadata": {},
   "source": [
    "<h2> Sesi 5 - Challenge </h2>"
   ]
  },
  {
   "cell_type": "code",
   "execution_count": 1,
   "id": "11f22361",
   "metadata": {},
   "outputs": [],
   "source": [
    "import numpy as np\n",
    "import pandas as pd"
   ]
  },
  {
   "cell_type": "code",
   "execution_count": null,
   "id": "765443d0",
   "metadata": {},
   "outputs": [],
   "source": [
    "a = pd.read_csv('https://raw.githubusercontent.com/guipsamora/pandas_exercises/master/04_Apply/Students_Alcohol_Consumption/student-mat.csv')"
   ]
  },
  {
   "cell_type": "code",
   "execution_count": null,
   "id": "cc8ab0bf",
   "metadata": {},
   "outputs": [],
   "source": [
    "a.info()"
   ]
  },
  {
   "cell_type": "code",
   "execution_count": null,
   "id": "311bb7ec",
   "metadata": {},
   "outputs": [],
   "source": [
    "a['Total_Time'] = a['traveltime'] + a['studytime']\n",
    "a[['Total_Time', 'traveltime', 'studytime']].describe()"
   ]
  },
  {
   "cell_type": "code",
   "execution_count": null,
   "id": "c8bb216c",
   "metadata": {},
   "outputs": [],
   "source": [
    "a.describe()"
   ]
  },
  {
   "cell_type": "code",
   "execution_count": null,
   "id": "bac0298a",
   "metadata": {},
   "outputs": [],
   "source": [
    "a['Total_Grade'] = a['G1'] + a['G2'] + a['G3']\n",
    "a.describe()"
   ]
  },
  {
   "cell_type": "code",
   "execution_count": null,
   "id": "6f168dff",
   "metadata": {},
   "outputs": [],
   "source": [
    "a.groupby('age')['Total_Grade'].median()"
   ]
  },
  {
   "cell_type": "code",
   "execution_count": null,
   "id": "c96b9fae",
   "metadata": {},
   "outputs": [],
   "source": [
    "a.groupby('age')['Total_Grade'].median().plot()"
   ]
  },
  {
   "cell_type": "markdown",
   "id": "0457398f",
   "metadata": {},
   "source": [
    "1. Harga rumah mahal seperti apa ciri-cirinya?\n",
    "2. Impact income ke pembelian rumah"
   ]
  },
  {
   "cell_type": "code",
   "execution_count": 3,
   "id": "20f01cee",
   "metadata": {},
   "outputs": [
    {
     "data": {
      "text/html": [
       "<div>\n",
       "<style scoped>\n",
       "    .dataframe tbody tr th:only-of-type {\n",
       "        vertical-align: middle;\n",
       "    }\n",
       "\n",
       "    .dataframe tbody tr th {\n",
       "        vertical-align: top;\n",
       "    }\n",
       "\n",
       "    .dataframe thead th {\n",
       "        text-align: right;\n",
       "    }\n",
       "</style>\n",
       "<table border=\"1\" class=\"dataframe\">\n",
       "  <thead>\n",
       "    <tr style=\"text-align: right;\">\n",
       "      <th></th>\n",
       "      <th>Avg. Area Income</th>\n",
       "      <th>Avg. Area House Age</th>\n",
       "      <th>Avg. Area Number of Rooms</th>\n",
       "      <th>Avg. Area Number of Bedrooms</th>\n",
       "      <th>Area Population</th>\n",
       "      <th>Price</th>\n",
       "    </tr>\n",
       "  </thead>\n",
       "  <tbody>\n",
       "    <tr>\n",
       "      <th>count</th>\n",
       "      <td>5000.000000</td>\n",
       "      <td>5000.000000</td>\n",
       "      <td>5000.000000</td>\n",
       "      <td>5000.000000</td>\n",
       "      <td>5000.000000</td>\n",
       "      <td>5.000000e+03</td>\n",
       "    </tr>\n",
       "    <tr>\n",
       "      <th>mean</th>\n",
       "      <td>68583.108984</td>\n",
       "      <td>5.977222</td>\n",
       "      <td>6.987792</td>\n",
       "      <td>3.981330</td>\n",
       "      <td>36163.516039</td>\n",
       "      <td>1.232073e+06</td>\n",
       "    </tr>\n",
       "    <tr>\n",
       "      <th>std</th>\n",
       "      <td>10657.991214</td>\n",
       "      <td>0.991456</td>\n",
       "      <td>1.005833</td>\n",
       "      <td>1.234137</td>\n",
       "      <td>9925.650114</td>\n",
       "      <td>3.531176e+05</td>\n",
       "    </tr>\n",
       "    <tr>\n",
       "      <th>min</th>\n",
       "      <td>17796.631190</td>\n",
       "      <td>2.644304</td>\n",
       "      <td>3.236194</td>\n",
       "      <td>2.000000</td>\n",
       "      <td>172.610686</td>\n",
       "      <td>1.593866e+04</td>\n",
       "    </tr>\n",
       "    <tr>\n",
       "      <th>25%</th>\n",
       "      <td>61480.562388</td>\n",
       "      <td>5.322283</td>\n",
       "      <td>6.299250</td>\n",
       "      <td>3.140000</td>\n",
       "      <td>29403.928702</td>\n",
       "      <td>9.975771e+05</td>\n",
       "    </tr>\n",
       "    <tr>\n",
       "      <th>50%</th>\n",
       "      <td>68804.286404</td>\n",
       "      <td>5.970429</td>\n",
       "      <td>7.002902</td>\n",
       "      <td>4.050000</td>\n",
       "      <td>36199.406689</td>\n",
       "      <td>1.232669e+06</td>\n",
       "    </tr>\n",
       "    <tr>\n",
       "      <th>75%</th>\n",
       "      <td>75783.338666</td>\n",
       "      <td>6.650808</td>\n",
       "      <td>7.665871</td>\n",
       "      <td>4.490000</td>\n",
       "      <td>42861.290769</td>\n",
       "      <td>1.471210e+06</td>\n",
       "    </tr>\n",
       "    <tr>\n",
       "      <th>max</th>\n",
       "      <td>107701.748378</td>\n",
       "      <td>9.519088</td>\n",
       "      <td>10.759588</td>\n",
       "      <td>6.500000</td>\n",
       "      <td>69621.713378</td>\n",
       "      <td>2.469066e+06</td>\n",
       "    </tr>\n",
       "  </tbody>\n",
       "</table>\n",
       "</div>"
      ],
      "text/plain": [
       "       Avg. Area Income  Avg. Area House Age  Avg. Area Number of Rooms  \\\n",
       "count       5000.000000          5000.000000                5000.000000   \n",
       "mean       68583.108984             5.977222                   6.987792   \n",
       "std        10657.991214             0.991456                   1.005833   \n",
       "min        17796.631190             2.644304                   3.236194   \n",
       "25%        61480.562388             5.322283                   6.299250   \n",
       "50%        68804.286404             5.970429                   7.002902   \n",
       "75%        75783.338666             6.650808                   7.665871   \n",
       "max       107701.748378             9.519088                  10.759588   \n",
       "\n",
       "       Avg. Area Number of Bedrooms  Area Population         Price  \n",
       "count                   5000.000000      5000.000000  5.000000e+03  \n",
       "mean                       3.981330     36163.516039  1.232073e+06  \n",
       "std                        1.234137      9925.650114  3.531176e+05  \n",
       "min                        2.000000       172.610686  1.593866e+04  \n",
       "25%                        3.140000     29403.928702  9.975771e+05  \n",
       "50%                        4.050000     36199.406689  1.232669e+06  \n",
       "75%                        4.490000     42861.290769  1.471210e+06  \n",
       "max                        6.500000     69621.713378  2.469066e+06  "
      ]
     },
     "execution_count": 3,
     "metadata": {},
     "output_type": "execute_result"
    }
   ],
   "source": [
    "df_housing = pd.read_csv('USA_Housing.csv')\n",
    "df_housing.describe()"
   ]
  },
  {
   "cell_type": "code",
   "execution_count": 7,
   "id": "4019c82a",
   "metadata": {},
   "outputs": [
    {
     "name": "stdout",
     "output_type": "stream",
     "text": [
      "<class 'pandas.core.frame.DataFrame'>\n",
      "RangeIndex: 5000 entries, 0 to 4999\n",
      "Data columns (total 7 columns):\n",
      " #   Column                        Non-Null Count  Dtype  \n",
      "---  ------                        --------------  -----  \n",
      " 0   Avg. Area Income              5000 non-null   float64\n",
      " 1   Avg. Area House Age           5000 non-null   float64\n",
      " 2   Avg. Area Number of Rooms     5000 non-null   float64\n",
      " 3   Avg. Area Number of Bedrooms  5000 non-null   float64\n",
      " 4   Area Population               5000 non-null   float64\n",
      " 5   Price                         5000 non-null   float64\n",
      " 6   Address                       5000 non-null   object \n",
      "dtypes: float64(6), object(1)\n",
      "memory usage: 273.6+ KB\n"
     ]
    }
   ],
   "source": [
    "df_housing.info()"
   ]
  },
  {
   "cell_type": "code",
   "execution_count": 15,
   "id": "991112cd",
   "metadata": {},
   "outputs": [
    {
     "data": {
      "text/html": [
       "<div>\n",
       "<style scoped>\n",
       "    .dataframe tbody tr th:only-of-type {\n",
       "        vertical-align: middle;\n",
       "    }\n",
       "\n",
       "    .dataframe tbody tr th {\n",
       "        vertical-align: top;\n",
       "    }\n",
       "\n",
       "    .dataframe thead th {\n",
       "        text-align: right;\n",
       "    }\n",
       "</style>\n",
       "<table border=\"1\" class=\"dataframe\">\n",
       "  <thead>\n",
       "    <tr style=\"text-align: right;\">\n",
       "      <th></th>\n",
       "      <th>Price</th>\n",
       "      <th>Avg. Area House Age</th>\n",
       "      <th>Total_room_area</th>\n",
       "      <th>Area Population</th>\n",
       "    </tr>\n",
       "  </thead>\n",
       "  <tbody>\n",
       "    <tr>\n",
       "      <th>count</th>\n",
       "      <td>5.000000e+03</td>\n",
       "      <td>5000.000000</td>\n",
       "      <td>5000.000000</td>\n",
       "      <td>5000.000000</td>\n",
       "    </tr>\n",
       "    <tr>\n",
       "      <th>mean</th>\n",
       "      <td>1.232073e+06</td>\n",
       "      <td>5.977222</td>\n",
       "      <td>10.969122</td>\n",
       "      <td>36163.516039</td>\n",
       "    </tr>\n",
       "    <tr>\n",
       "      <th>std</th>\n",
       "      <td>3.531176e+05</td>\n",
       "      <td>0.991456</td>\n",
       "      <td>1.919249</td>\n",
       "      <td>9925.650114</td>\n",
       "    </tr>\n",
       "    <tr>\n",
       "      <th>min</th>\n",
       "      <td>1.593866e+04</td>\n",
       "      <td>2.644304</td>\n",
       "      <td>6.249321</td>\n",
       "      <td>172.610686</td>\n",
       "    </tr>\n",
       "    <tr>\n",
       "      <th>25%</th>\n",
       "      <td>9.975771e+05</td>\n",
       "      <td>5.322283</td>\n",
       "      <td>9.408458</td>\n",
       "      <td>29403.928702</td>\n",
       "    </tr>\n",
       "    <tr>\n",
       "      <th>50%</th>\n",
       "      <td>1.232669e+06</td>\n",
       "      <td>5.970429</td>\n",
       "      <td>10.803477</td>\n",
       "      <td>36199.406689</td>\n",
       "    </tr>\n",
       "    <tr>\n",
       "      <th>75%</th>\n",
       "      <td>1.471210e+06</td>\n",
       "      <td>6.650808</td>\n",
       "      <td>12.498048</td>\n",
       "      <td>42861.290769</td>\n",
       "    </tr>\n",
       "    <tr>\n",
       "      <th>max</th>\n",
       "      <td>2.469066e+06</td>\n",
       "      <td>9.519088</td>\n",
       "      <td>16.510022</td>\n",
       "      <td>69621.713378</td>\n",
       "    </tr>\n",
       "  </tbody>\n",
       "</table>\n",
       "</div>"
      ],
      "text/plain": [
       "              Price  Avg. Area House Age  Total_room_area  Area Population\n",
       "count  5.000000e+03          5000.000000      5000.000000      5000.000000\n",
       "mean   1.232073e+06             5.977222        10.969122     36163.516039\n",
       "std    3.531176e+05             0.991456         1.919249      9925.650114\n",
       "min    1.593866e+04             2.644304         6.249321       172.610686\n",
       "25%    9.975771e+05             5.322283         9.408458     29403.928702\n",
       "50%    1.232669e+06             5.970429        10.803477     36199.406689\n",
       "75%    1.471210e+06             6.650808        12.498048     42861.290769\n",
       "max    2.469066e+06             9.519088        16.510022     69621.713378"
      ]
     },
     "execution_count": 15,
     "metadata": {},
     "output_type": "execute_result"
    }
   ],
   "source": [
    "df_housing['Total_room_area'] = df_housing['Avg. Area Number of Rooms'] + df_housing['Avg. Area Number of Bedrooms']\n",
    "df_housing[['Price','Avg. Area House Age','Total_room_area', 'Area Population']].describe()"
   ]
  },
  {
   "cell_type": "markdown",
   "id": "b65b6ac6",
   "metadata": {},
   "source": [
    "<p><b><u>Harga rumah mahal seperti apa ciri-cirinya?</u></b><br>Berdasarkan hasil analisa diatas, maka dapat dilihat adanya korelasi antara harga rumah dengan: <ul><li>umur rumah,</li><li>jumlah kamar yang ada, dan</li><li>populasi</li></ul>dimana terdapat korelasi positif antara harga rumah dengan ketiga aspek tersebut. Dengan demikian, semakin tua umur rumah, semakin banyak jumlah kamar yang ada, dan semakin tinggi populasi di lokasi rumah tersebut, maka akan semakin tinggi harga rumah tersebut</p>"
   ]
  },
  {
   "cell_type": "code",
   "execution_count": 18,
   "id": "16d0cfe8",
   "metadata": {},
   "outputs": [
    {
     "data": {
      "text/plain": [
       "<AxesSubplot:xlabel='Price'>"
      ]
     },
     "execution_count": 18,
     "metadata": {},
     "output_type": "execute_result"
    },
    {
     "data": {
      "image/png": "[encoded data removed]",
      "text/plain": [
       "<Figure size 432x288 with 1 Axes>"
      ]
     },
     "metadata": {
      "needs_background": "light"
     },
     "output_type": "display_data"
    }
   ],
   "source": [
    "df_housing.groupby('Price')['Avg. Area Income'].mean().plot()"
   ]
  },
  {
   "cell_type": "markdown",
   "id": "f9e71ec6",
   "metadata": {},
   "source": [
    "<p><b><u>Impact income ke pembelian rumah</u></b><br>Berdasarkan chart plot diatas, maka dapat dilihat adanya korelasi positif antara harga rumah dengan rerata pendapatan pada area tersebut. Namun </p>"
   ]
  }
 ],
 "metadata": {
  "kernelspec": {
   "display_name": "Python 3",
   "language": "python",
   "name": "python3"
  },
  "language_info": {
   "codemirror_mode": {
    "name": "ipython",
    "version": 3
   },
   "file_extension": ".py",
   "mimetype": "text/x-python",
   "name": "python",
   "nbconvert_exporter": "python",
   "pygments_lexer": "ipython3",
   "version": "3.8.8"
  }
 },
 "nbformat": 4,
 "nbformat_minor": 5
}
